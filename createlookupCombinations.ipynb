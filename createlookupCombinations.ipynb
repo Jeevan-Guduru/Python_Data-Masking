{
 "cells": [
  {
   "cell_type": "code",
   "execution_count": null,
   "metadata": {},
   "outputs": [],
   "source": [
    "#Function to create dummy addressess from look up address table in mysql\n",
    "def CreateAddressCombinationsTable ():\n",
    "    Address_Masked_Combinations_Src=pd.read_sql(\"select * from tdm_trg.tbl_street,tdm_trg.tbl_state lookup;\",localcon)\n",
    "    #Lookup_Combinations_temp-pd. DataFrame (product(Name Masked Src[first_nome'], Name_Masked Src[ Last name'])\n",
    "    #Logger.info(\"Checking and removing duplicate combinations if any .\")\n",
    "    Address_Masked_Combinations_Src=Address_Masked_Combinations_Src.drop_duplicates()\n",
    "    Address_Masked_Combinations_src['Masked_Address']=Address_Masked_Combinations_Src['street_name'] +','+ Address_Mask_Combination_Src['baselocation']\n",
    "    Address_Masked_Combinations_Src = Address_Masked_Combinations_Src.sample(frac=1).reset_index(drop=True)\n",
    "    #try: \n",
    "    #Address Masked Combinations Src. to_sql(name='address Lookup combinations,con-engine,index false, f exists=\"replace!\n",
    "    #except Exception as e: print(e)\n",
    "    Address_Masked_Combinations_src.to_csv('address_lkup_combinations.csv', index=False)"
   ]
  },
  {
   "cell_type": "code",
   "execution_count": null,
   "metadata": {},
   "outputs": [],
   "source": [
    "#Fucntion which creates mock up names from the set of lookup name table in mySQL DB.\n",
    "#Here combinations of first name and last name form lookup table is done using itertools and stored in a dataframe.\n",
    "#this names will be used as substitute/mask for replacing actual cource names\n",
    "def CreateCombinationsTable():\n",
    "    Name_Masked_src=pd.read_sql(\"SELECT id, first_name,last_name FROM tdm_trg.tbl_name_lookup\", localcon) \n",
    "    lookup_Combinations_temp=pd.DataFrame(product(Name_Masked_src['first_name'], Name_Masked_src['last_name']),columns=['First_Name','Last_Name'])\n",
    "    lookup_Combinations_temp=lookup_Combinations_temp.drop_duplicates() \n",
    "    lookup_Combinations_temp['Mask_Name']=lookup_Combinations_temp['First_Name'] + ' ' + lookup_Combinations_temp['last_Name'] \n",
    "    lookup_Combinations_temp=lookup_Combinations_temp.sample(frac=1).reset_index(drop=True)\n",
    "    #try: Lookup_Combinations_temp.to_sql(name'name_Lkup_combinations, con-engine, index-False, if_exists='replace')\n",
    "    #except Exception as e: # print(e)\n",
    "    #Writing combinations to csv file instead to DB \n",
    "    lookup_Combinations_temp.to_csv('name_lkup_combinations.csv', index=False)"
   ]
  }
 ],
 "metadata": {
  "kernelspec": {
   "display_name": "Python 3",
   "language": "python",
   "name": "python3"
  },
  "language_info": {
   "codemirror_mode": {
    "name": "ipython",
    "version": 3
   },
   "file_extension": ".py",
   "mimetype": "text/x-python",
   "name": "python",
   "nbconvert_exporter": "python",
   "pygments_lexer": "ipython3",
   "version": "3.8.5"
  }
 },
 "nbformat": 4,
 "nbformat_minor": 4
}
