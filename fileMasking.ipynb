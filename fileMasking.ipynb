{
 "cells": [
  {
   "cell_type": "code",
   "execution_count": null,
   "metadata": {},
   "outputs": [],
   "source": [
    "from createlookupCombinations import *"
   ]
  },
  {
   "cell_type": "code",
   "execution_count": null,
   "metadata": {},
   "outputs": [],
   "source": [
    "#function to perform the masking of names\n",
    "#This function here also maintains the mapping of the mocked up names and \\ \n",
    "#actual names in a dataframe and stores the same in mySQL DB\n",
    "def name(df,columnname):   #,lk_up_tbl='name_1kup_combinations):\n",
    "    columnname=columnname. lower()\n",
    "    if os. path.isfile('./name_lkup_combinations.csv')==False:\n",
    "        CreateCombinationsTable()\n",
    "    Src_tbl=df[[columnname]]\n",
    "    #Logger.info(\"Reading from Lookup combinations with which source data has to be masked ...\"\n",
    "    lookup_Combinations_temp=pd.read_csv (\"name_lkup_combinations.csv\") #pd.read_sql(\"select * from tdm trg. \"+ik_up_tbl, Localcon) \n",
    "    if columnname not in lookup_Combinations_temp.columns:\n",
    "        lookup_Combinations_temp[columnname] =Src_tbl[columnname] \n",
    "    else:\n",
    "        Names_not_in_lookup=pd.DataFrame(Src_tbl.merge(lookup_Combinations_temp, how ='outer', indicator=True).loc[lambda x : x['_merge'] == 'left_only'][columnname])\n",
    "        Temp_Name_Df=pd.DataFrame(lookup_Combinations_temp[columnname])\n",
    "        Temp_Name_Of=Temp_Name_Df.dropna()\n",
    "        Temp_Name_DF=Temp_Name_Df.append(Names_not_in_lookup, ignore_index = True,sort=False) \n",
    "        lookup_Combinations_temp[columnname]=Temp_Name_Df[columnname] \n",
    "    trg_df =Src_tbl.replace(dict(zip(lookup_Combinations_temp[columnname],lookup_Combinations_temp.mask_name))) #replacing mask I\n",
    "    return list(trg_df[columnname])"
   ]
  },
  {
   "cell_type": "code",
   "execution_count": null,
   "metadata": {},
   "outputs": [],
   "source": [
    "#Function to apply masking logic on address field and also it maintains the mapping between mocked up and actual address.\n",
    "def address(df,columnname):#, look_up_table='address_lkup_combinations):\n",
    "    lookup_table_check_In_DB=pd.read_sql(\" SELECT table_name FROM information_schema.tables where table_name='address_1kup_combinations'\",localcon)\n",
    "    if lookup_table_Check_In_DB.empty(): \n",
    "        CreateAddressCombinationsTable()\n",
    "    Src_tbl=df[[ columnname]]\n",
    "    lookup_Combinations_temp=pd.read_csv(\"address_lkup_combinations.csv\")#pd.read_sql(\"select \n",
    "    if columnname not in lookup_Combinations_temp.columns:\n",
    "        lookup_Combinations_temp[columnname] =Src_tbl[columnname]\n",
    "    else:\n",
    "        Names_not_in_lookup=pd.DataFrame(Src_tbl.merge(lookup_Combinations_temp, how ='outer', indicator=True).loc[lambda x: x['_merge'] == 'left only'][columnname])\n",
    "        Temp_Name_Df=pd. DataFrame (lookup_Combinations_temp[columnname])\n",
    "        Temp_Name_Df=Temp_Name_Df.dropna()\n",
    "        Temp_Name_Df=Temp_Name_Df.append (Names_not_in_lookup, ignore_index=True, sort=False)\n",
    "        lookup_Combinations_temp[columnname]=TempName_Df[columnname] \n",
    "    trg_df=Src_tbl.replace(dict(zip(lookup_Combinations_temp[columnname],lookup_Combinations_temp. masked_address)))\n",
    "    return list(trg_df[columname])"
   ]
  },
  {
   "cell_type": "code",
   "execution_count": null,
   "metadata": {},
   "outputs": [],
   "source": [
    "#Creating masked email from masked names \n",
    "def email(Name):\n",
    "    email1=[x.replace(' ','.') for x in Name] \n",
    "    email1=[x+'@sample.com' for x in email1]\n",
    "    return email1"
   ]
  },
  {
   "cell_type": "code",
   "execution_count": null,
   "metadata": {},
   "outputs": [],
   "source": [
    "#Function to mask to DOB field \n",
    "def dob(df, columnname): \n",
    "    tablename=df[[columnname]]\n",
    "    tablename[columnname] = pd.to_datetime(tablename[columnname], dayfirst=True)\n",
    "    tablename[columnname] = tablename[columnname] + pd.offsets.DateOffset(years=-2,months=-1) \n",
    "    tablename[columnname] = tablename[columnname].dt.strftime( '%d-%m-%Y')\n",
    "    return list(tablename[columnname])"
   ]
  },
  {
   "cell_type": "code",
   "execution_count": null,
   "metadata": {},
   "outputs": [],
   "source": [
    "#function to calculate age from masked DOB\n",
    "def age(dob):\n",
    "    now = datetime.now()\n",
    "    now = pd.to_datetime('now') \n",
    "    dob=pd.to_datetime(dob) \n",
    "    age1=(now.year - dob.year)\n",
    "    return list(agel)"
   ]
  },
  {
   "cell_type": "code",
   "execution_count": null,
   "metadata": {},
   "outputs": [],
   "source": [
    "def phone(schema, tablename, columnname):\n",
    "    df=data[columnname] \n",
    "    df=list(df)\n",
    "    df=[i.strip() for i in df] \n",
    "    df=[[c for c in i]for i in df] \n",
    "    list1=[] \n",
    "    for j in df: \n",
    "        list2=[] \n",
    "        for j in i: \n",
    "            if j.isdigit(): \n",
    "                j=int(j) \n",
    "                if j==9: \n",
    "                    j=8 \n",
    "                else:\n",
    "                    j=j+1 \n",
    "                j=str(j)\n",
    "            list2.append(j)\n",
    "        list1.append(list2)\n",
    "    list3=[]\n",
    "    for i in list1:\n",
    "        j=\"\".join(i) \n",
    "        list3.append(j)\n",
    "    return list3"
   ]
  }
 ],
 "metadata": {
  "kernelspec": {
   "display_name": "Python 3",
   "language": "python",
   "name": "python3"
  },
  "language_info": {
   "codemirror_mode": {
    "name": "ipython",
    "version": 3
   },
   "file_extension": ".py",
   "mimetype": "text/x-python",
   "name": "python",
   "nbconvert_exporter": "python",
   "pygments_lexer": "ipython3",
   "version": "3.8.5"
  }
 },
 "nbformat": 4,
 "nbformat_minor": 4
}
